{
  "nbformat": 4,
  "nbformat_minor": 0,
  "metadata": {
    "colab": {
      "name": "random_forest.ipynb",
      "provenance": [],
      "collapsed_sections": []
    },
    "kernelspec": {
      "name": "python3",
      "display_name": "Python 3"
    }
  },
  "cells": [
    {
      "cell_type": "markdown",
      "metadata": {
        "id": "iP7MSAWjBvl9",
        "colab_type": "text"
      },
      "source": [
        "Começamos importando algumas bibliotecas"
      ]
    },
    {
      "cell_type": "code",
      "metadata": {
        "id": "LQDj4rAaB1I9",
        "colab_type": "code",
        "colab": {}
      },
      "source": [
        "import pandas as pd\n",
        "import numpy as np\n",
        "import matplotlib.pyplot as plt\n",
        "import matplotlib.gridspec as gridspec\n",
        "import itertools\n",
        "from sklearn.svm import SVC\n",
        "from sklearn.ensemble import RandomForestClassifier\n",
        "from sklearn.neighbors import KNeighborsClassifier\n",
        "from sklearn.preprocessing import StandardScaler\n",
        "from sklearn.linear_model import LogisticRegression \n",
        "from sklearn.ensemble import GradientBoostingClassifier \n",
        "from sklearn.discriminant_analysis import LinearDiscriminantAnalysis\n",
        "from sklearn import tree\n",
        "\n",
        "from sklearn.metrics import classification_report\n",
        "from sklearn.metrics import roc_auc_score\n",
        "from sklearn.metrics import roc_curve\n",
        "from sklearn import metrics\n",
        "from sklearn.metrics import confusion_matrix\n",
        "import seaborn as sns"
      ],
      "execution_count": 0,
      "outputs": []
    },
    {
      "cell_type": "markdown",
      "metadata": {
        "id": "RQdn41AnB182",
        "colab_type": "text"
      },
      "source": [
        "Importamos nosso dataset"
      ]
    },
    {
      "cell_type": "code",
      "metadata": {
        "id": "o0MpQxZvB4Zs",
        "colab_type": "code",
        "colab": {}
      },
      "source": [
        "sheets_url = 'https://raw.githubusercontent.com/paulokiim/Analise-de-Dados/master/RandomForest/heart.csv'\n",
        "df = pd.read_csv(sheets_url)"
      ],
      "execution_count": 0,
      "outputs": []
    },
    {
      "cell_type": "markdown",
      "metadata": {
        "id": "B88muCFtB8jY",
        "colab_type": "text"
      },
      "source": [
        "Imprimimos as 10 primeiras linhas"
      ]
    },
    {
      "cell_type": "code",
      "metadata": {
        "id": "D9LKmoVOB-2m",
        "colab_type": "code",
        "colab": {
          "base_uri": "https://localhost:8080/",
          "height": 257
        },
        "outputId": "348ae48a-acde-45bd-b9da-971708e4f5a0"
      },
      "source": [
        "print(df.head(10))"
      ],
      "execution_count": 13,
      "outputs": [
        {
          "output_type": "stream",
          "text": [
            "   age  sex  cp  trestbps  chol  fbs  ...  exang  oldpeak  slope  ca  thal  target\n",
            "0   63    1   3       145   233    1  ...      0      2.3      0   0     1       1\n",
            "1   37    1   2       130   250    0  ...      0      3.5      0   0     2       1\n",
            "2   41    0   1       130   204    0  ...      0      1.4      2   0     2       1\n",
            "3   56    1   1       120   236    0  ...      0      0.8      2   0     2       1\n",
            "4   57    0   0       120   354    0  ...      1      0.6      2   0     2       1\n",
            "5   57    1   0       140   192    0  ...      0      0.4      1   0     1       1\n",
            "6   56    0   1       140   294    0  ...      0      1.3      1   0     2       1\n",
            "7   44    1   1       120   263    0  ...      0      0.0      2   0     3       1\n",
            "8   52    1   2       172   199    1  ...      0      0.5      2   0     3       1\n",
            "9   57    1   2       150   168    0  ...      0      1.6      2   0     2       1\n",
            "\n",
            "[10 rows x 14 columns]\n"
          ],
          "name": "stdout"
        }
      ]
    },
    {
      "cell_type": "markdown",
      "metadata": {
        "id": "4PA9h811CGSt",
        "colab_type": "text"
      },
      "source": [
        "Calculamos e imprimos quantas pessoas estao saudaveis e quantas estao com doenca de coracao:"
      ]
    },
    {
      "cell_type": "code",
      "metadata": {
        "id": "-K48AoSpCRED",
        "colab_type": "code",
        "colab": {
          "base_uri": "https://localhost:8080/",
          "height": 54
        },
        "outputId": "608fcf06-dff1-47bf-db80-d09c64a2379f"
      },
      "source": [
        "healthy = df[(df['target'] ==0) ].count()[1]\n",
        "sick = df[(df['target'] ==1) ].count()[1]\n",
        "\n",
        "print (\"Ha \" + str(healthy) + \" pessoas saudaveis\")\n",
        "print (\"Ha \" + str(sick) + \" pessoas com problema de coracao\")"
      ],
      "execution_count": 14,
      "outputs": [
        {
          "output_type": "stream",
          "text": [
            "Ha 138 pessoas saudaveis\n",
            "Ha 165 pessoas com problema de coracao\n"
          ],
          "name": "stdout"
        }
      ]
    },
    {
      "cell_type": "markdown",
      "metadata": {
        "id": "VGbpB9LNCc40",
        "colab_type": "text"
      },
      "source": [
        "\n",
        "Agora vamos normalizar os dados e separar entre treinamento e testes\n",
        "\n",
        "O treinamento contemplará 70% do dataset e os testes 30%\n",
        "\n",
        "Os valores do nosso dataframe eh todo copiado para X. Sao copiados apenas os valores, nao a tabela em si\n",
        "\n",
        "y contem os valores dos targets: copiados apenas os valores, nao a coluna em si \n",
        "\n",
        "iloc seleciona linhas e colunas por números"
      ]
    },
    {
      "cell_type": "code",
      "metadata": {
        "id": "byHlgucXC9zk",
        "colab_type": "code",
        "colab": {}
      },
      "source": [
        "X = df.iloc[:,0:13].values\n",
        "y = df.iloc[:,13].values"
      ],
      "execution_count": 0,
      "outputs": []
    },
    {
      "cell_type": "markdown",
      "metadata": {
        "id": "o2mVigL1DCeP",
        "colab_type": "text"
      },
      "source": [
        "Vamos normalizar o nosso dataset\n",
        "\n",
        "Criaremos um novo DataFrame, todo normaalizado\n",
        "\n",
        "Por equanto esse novo data frame nao tem a coluna target"
      ]
    },
    {
      "cell_type": "code",
      "metadata": {
        "id": "wg4hKd8sDOSg",
        "colab_type": "code",
        "colab": {}
      },
      "source": [
        "from sklearn.preprocessing import StandardScaler\n",
        "X_std = StandardScaler().fit_transform(X)\n",
        "dfNorm = pd.DataFrame(X_std, index = df.index, columns = df.columns[0:13])"
      ],
      "execution_count": 0,
      "outputs": []
    },
    {
      "cell_type": "markdown",
      "metadata": {
        "id": "Mf8k_-dCDRec",
        "colab_type": "text"
      },
      "source": [
        "Imprimiremos as 10 primeiras linhas do nosso dataset normalizado, para poder vizualizar"
      ]
    },
    {
      "cell_type": "code",
      "metadata": {
        "id": "PruJRmbxDmqV",
        "colab_type": "code",
        "colab": {
          "base_uri": "https://localhost:8080/",
          "height": 257
        },
        "outputId": "43da5ede-5637-41d0-97ed-675b1d0da3a1"
      },
      "source": [
        "print(dfNorm.head(10))"
      ],
      "execution_count": 17,
      "outputs": [
        {
          "output_type": "stream",
          "text": [
            "        age       sex        cp  ...     slope        ca      thal\n",
            "0  0.952197  0.681005  1.973123  ... -2.274579 -0.714429 -2.148873\n",
            "1 -1.915313  0.681005  1.002577  ... -2.274579 -0.714429 -0.512922\n",
            "2 -1.474158 -1.468418  0.032031  ...  0.976352 -0.714429 -0.512922\n",
            "3  0.180175  0.681005  0.032031  ...  0.976352 -0.714429 -0.512922\n",
            "4  0.290464 -1.468418 -0.938515  ...  0.976352 -0.714429 -0.512922\n",
            "5  0.290464  0.681005 -0.938515  ... -0.649113 -0.714429 -2.148873\n",
            "6  0.180175 -1.468418  0.032031  ... -0.649113 -0.714429 -0.512922\n",
            "7 -1.143291  0.681005  0.032031  ...  0.976352 -0.714429  1.123029\n",
            "8 -0.260980  0.681005  1.002577  ...  0.976352 -0.714429  1.123029\n",
            "9  0.290464  0.681005  1.002577  ...  0.976352 -0.714429 -0.512922\n",
            "\n",
            "[10 rows x 13 columns]\n"
          ],
          "name": "stdout"
        }
      ]
    },
    {
      "cell_type": "markdown",
      "metadata": {
        "id": "ozB2mgkoDr7O",
        "colab_type": "text"
      },
      "source": [
        "Adicionaremos a coluna target ao novo dataframe, normalizado\n",
        "\n",
        "Após adicionar target, imprimos as 10 primeiras linhas, para vizualizar nossos dados"
      ]
    },
    {
      "cell_type": "code",
      "metadata": {
        "id": "IqCSyI7fD2n8",
        "colab_type": "code",
        "colab": {
          "base_uri": "https://localhost:8080/",
          "height": 363
        },
        "outputId": "8d28e3ca-da12-4fe5-f421-1d44d3872a49"
      },
      "source": [
        "dfNorm['target'] = df['target']\n",
        "dfNorm.head(10)"
      ],
      "execution_count": 18,
      "outputs": [
        {
          "output_type": "execute_result",
          "data": {
            "text/html": [
              "<div>\n",
              "<style scoped>\n",
              "    .dataframe tbody tr th:only-of-type {\n",
              "        vertical-align: middle;\n",
              "    }\n",
              "\n",
              "    .dataframe tbody tr th {\n",
              "        vertical-align: top;\n",
              "    }\n",
              "\n",
              "    .dataframe thead th {\n",
              "        text-align: right;\n",
              "    }\n",
              "</style>\n",
              "<table border=\"1\" class=\"dataframe\">\n",
              "  <thead>\n",
              "    <tr style=\"text-align: right;\">\n",
              "      <th></th>\n",
              "      <th>age</th>\n",
              "      <th>sex</th>\n",
              "      <th>cp</th>\n",
              "      <th>trestbps</th>\n",
              "      <th>chol</th>\n",
              "      <th>fbs</th>\n",
              "      <th>restecg</th>\n",
              "      <th>thalach</th>\n",
              "      <th>exang</th>\n",
              "      <th>oldpeak</th>\n",
              "      <th>slope</th>\n",
              "      <th>ca</th>\n",
              "      <th>thal</th>\n",
              "      <th>target</th>\n",
              "    </tr>\n",
              "  </thead>\n",
              "  <tbody>\n",
              "    <tr>\n",
              "      <th>0</th>\n",
              "      <td>0.952197</td>\n",
              "      <td>0.681005</td>\n",
              "      <td>1.973123</td>\n",
              "      <td>0.763956</td>\n",
              "      <td>-0.256334</td>\n",
              "      <td>2.394438</td>\n",
              "      <td>-1.005832</td>\n",
              "      <td>0.015443</td>\n",
              "      <td>-0.696631</td>\n",
              "      <td>1.087338</td>\n",
              "      <td>-2.274579</td>\n",
              "      <td>-0.714429</td>\n",
              "      <td>-2.148873</td>\n",
              "      <td>1</td>\n",
              "    </tr>\n",
              "    <tr>\n",
              "      <th>1</th>\n",
              "      <td>-1.915313</td>\n",
              "      <td>0.681005</td>\n",
              "      <td>1.002577</td>\n",
              "      <td>-0.092738</td>\n",
              "      <td>0.072199</td>\n",
              "      <td>-0.417635</td>\n",
              "      <td>0.898962</td>\n",
              "      <td>1.633471</td>\n",
              "      <td>-0.696631</td>\n",
              "      <td>2.122573</td>\n",
              "      <td>-2.274579</td>\n",
              "      <td>-0.714429</td>\n",
              "      <td>-0.512922</td>\n",
              "      <td>1</td>\n",
              "    </tr>\n",
              "    <tr>\n",
              "      <th>2</th>\n",
              "      <td>-1.474158</td>\n",
              "      <td>-1.468418</td>\n",
              "      <td>0.032031</td>\n",
              "      <td>-0.092738</td>\n",
              "      <td>-0.816773</td>\n",
              "      <td>-0.417635</td>\n",
              "      <td>-1.005832</td>\n",
              "      <td>0.977514</td>\n",
              "      <td>-0.696631</td>\n",
              "      <td>0.310912</td>\n",
              "      <td>0.976352</td>\n",
              "      <td>-0.714429</td>\n",
              "      <td>-0.512922</td>\n",
              "      <td>1</td>\n",
              "    </tr>\n",
              "    <tr>\n",
              "      <th>3</th>\n",
              "      <td>0.180175</td>\n",
              "      <td>0.681005</td>\n",
              "      <td>0.032031</td>\n",
              "      <td>-0.663867</td>\n",
              "      <td>-0.198357</td>\n",
              "      <td>-0.417635</td>\n",
              "      <td>0.898962</td>\n",
              "      <td>1.239897</td>\n",
              "      <td>-0.696631</td>\n",
              "      <td>-0.206705</td>\n",
              "      <td>0.976352</td>\n",
              "      <td>-0.714429</td>\n",
              "      <td>-0.512922</td>\n",
              "      <td>1</td>\n",
              "    </tr>\n",
              "    <tr>\n",
              "      <th>4</th>\n",
              "      <td>0.290464</td>\n",
              "      <td>-1.468418</td>\n",
              "      <td>-0.938515</td>\n",
              "      <td>-0.663867</td>\n",
              "      <td>2.082050</td>\n",
              "      <td>-0.417635</td>\n",
              "      <td>0.898962</td>\n",
              "      <td>0.583939</td>\n",
              "      <td>1.435481</td>\n",
              "      <td>-0.379244</td>\n",
              "      <td>0.976352</td>\n",
              "      <td>-0.714429</td>\n",
              "      <td>-0.512922</td>\n",
              "      <td>1</td>\n",
              "    </tr>\n",
              "    <tr>\n",
              "      <th>5</th>\n",
              "      <td>0.290464</td>\n",
              "      <td>0.681005</td>\n",
              "      <td>-0.938515</td>\n",
              "      <td>0.478391</td>\n",
              "      <td>-1.048678</td>\n",
              "      <td>-0.417635</td>\n",
              "      <td>0.898962</td>\n",
              "      <td>-0.072018</td>\n",
              "      <td>-0.696631</td>\n",
              "      <td>-0.551783</td>\n",
              "      <td>-0.649113</td>\n",
              "      <td>-0.714429</td>\n",
              "      <td>-2.148873</td>\n",
              "      <td>1</td>\n",
              "    </tr>\n",
              "    <tr>\n",
              "      <th>6</th>\n",
              "      <td>0.180175</td>\n",
              "      <td>-1.468418</td>\n",
              "      <td>0.032031</td>\n",
              "      <td>0.478391</td>\n",
              "      <td>0.922521</td>\n",
              "      <td>-0.417635</td>\n",
              "      <td>-1.005832</td>\n",
              "      <td>0.146634</td>\n",
              "      <td>-0.696631</td>\n",
              "      <td>0.224643</td>\n",
              "      <td>-0.649113</td>\n",
              "      <td>-0.714429</td>\n",
              "      <td>-0.512922</td>\n",
              "      <td>1</td>\n",
              "    </tr>\n",
              "    <tr>\n",
              "      <th>7</th>\n",
              "      <td>-1.143291</td>\n",
              "      <td>0.681005</td>\n",
              "      <td>0.032031</td>\n",
              "      <td>-0.663867</td>\n",
              "      <td>0.323431</td>\n",
              "      <td>-0.417635</td>\n",
              "      <td>0.898962</td>\n",
              "      <td>1.021244</td>\n",
              "      <td>-0.696631</td>\n",
              "      <td>-0.896862</td>\n",
              "      <td>0.976352</td>\n",
              "      <td>-0.714429</td>\n",
              "      <td>1.123029</td>\n",
              "      <td>1</td>\n",
              "    </tr>\n",
              "    <tr>\n",
              "      <th>8</th>\n",
              "      <td>-0.260980</td>\n",
              "      <td>0.681005</td>\n",
              "      <td>1.002577</td>\n",
              "      <td>2.306004</td>\n",
              "      <td>-0.913400</td>\n",
              "      <td>2.394438</td>\n",
              "      <td>0.898962</td>\n",
              "      <td>0.540209</td>\n",
              "      <td>-0.696631</td>\n",
              "      <td>-0.465514</td>\n",
              "      <td>0.976352</td>\n",
              "      <td>-0.714429</td>\n",
              "      <td>1.123029</td>\n",
              "      <td>1</td>\n",
              "    </tr>\n",
              "    <tr>\n",
              "      <th>9</th>\n",
              "      <td>0.290464</td>\n",
              "      <td>0.681005</td>\n",
              "      <td>1.002577</td>\n",
              "      <td>1.049520</td>\n",
              "      <td>-1.512490</td>\n",
              "      <td>-0.417635</td>\n",
              "      <td>0.898962</td>\n",
              "      <td>1.064975</td>\n",
              "      <td>-0.696631</td>\n",
              "      <td>0.483451</td>\n",
              "      <td>0.976352</td>\n",
              "      <td>-0.714429</td>\n",
              "      <td>-0.512922</td>\n",
              "      <td>1</td>\n",
              "    </tr>\n",
              "  </tbody>\n",
              "</table>\n",
              "</div>"
            ],
            "text/plain": [
              "        age       sex        cp  trestbps  ...     slope        ca      thal  target\n",
              "0  0.952197  0.681005  1.973123  0.763956  ... -2.274579 -0.714429 -2.148873       1\n",
              "1 -1.915313  0.681005  1.002577 -0.092738  ... -2.274579 -0.714429 -0.512922       1\n",
              "2 -1.474158 -1.468418  0.032031 -0.092738  ...  0.976352 -0.714429 -0.512922       1\n",
              "3  0.180175  0.681005  0.032031 -0.663867  ...  0.976352 -0.714429 -0.512922       1\n",
              "4  0.290464 -1.468418 -0.938515 -0.663867  ...  0.976352 -0.714429 -0.512922       1\n",
              "5  0.290464  0.681005 -0.938515  0.478391  ... -0.649113 -0.714429 -2.148873       1\n",
              "6  0.180175 -1.468418  0.032031  0.478391  ... -0.649113 -0.714429 -0.512922       1\n",
              "7 -1.143291  0.681005  0.032031 -0.663867  ...  0.976352 -0.714429  1.123029       1\n",
              "8 -0.260980  0.681005  1.002577  2.306004  ...  0.976352 -0.714429  1.123029       1\n",
              "9  0.290464  0.681005  1.002577  1.049520  ...  0.976352 -0.714429 -0.512922       1\n",
              "\n",
              "[10 rows x 14 columns]"
            ]
          },
          "metadata": {
            "tags": []
          },
          "execution_count": 18
        }
      ]
    },
    {
      "cell_type": "markdown",
      "metadata": {
        "id": "qg1MnBZlD6R8",
        "colab_type": "text"
      },
      "source": [
        "Atribuiremos a X os valores do nosso dataframe normalizado\n",
        "\n",
        "Atribuimos a y os valores do nosso target do nosso dataframe normalizado"
      ]
    },
    {
      "cell_type": "code",
      "metadata": {
        "id": "b7nEN5YkD_uw",
        "colab_type": "code",
        "colab": {}
      },
      "source": [
        "X = dfNorm.iloc[:,0:13].values\n",
        "y = dfNorm.iloc[:,13].values"
      ],
      "execution_count": 0,
      "outputs": []
    },
    {
      "cell_type": "markdown",
      "metadata": {
        "id": "U618j6FPEIsH",
        "colab_type": "text"
      },
      "source": [
        "Faremos o treinamento do nosso modelo:"
      ]
    },
    {
      "cell_type": "code",
      "metadata": {
        "id": "V6z9Uam0EMht",
        "colab_type": "code",
        "colab": {
          "base_uri": "https://localhost:8080/",
          "height": 35
        },
        "outputId": "332b1c44-0180-46e0-91fe-a94f8fcca816"
      },
      "source": [
        "from sklearn.model_selection import train_test_split\n",
        "X_train, X_test, y_train, y_test = train_test_split(X, y, test_size=0.3, random_state=0)\n",
        "print(X_train.shape, y_train.shape, X_test.shape , y_test.shape)"
      ],
      "execution_count": 28,
      "outputs": [
        {
          "output_type": "stream",
          "text": [
            "(212, 13) (212,) (91, 13) (91,)\n"
          ],
          "name": "stdout"
        }
      ]
    },
    {
      "cell_type": "markdown",
      "metadata": {
        "id": "FzZO-j31EN54",
        "colab_type": "text"
      },
      "source": [
        "Calculamos a matriz de correlação"
      ]
    },
    {
      "cell_type": "code",
      "metadata": {
        "id": "z4rFhkktEP8D",
        "colab_type": "code",
        "colab": {}
      },
      "source": [
        "corr = dfNorm.corr()"
      ],
      "execution_count": 0,
      "outputs": []
    },
    {
      "cell_type": "markdown",
      "metadata": {
        "id": "RFfGYbFZETgG",
        "colab_type": "text"
      },
      "source": [
        "Plotamos o heatmap, ou mapa de calor"
      ]
    },
    {
      "cell_type": "code",
      "metadata": {
        "id": "2E_ayaQmEVnM",
        "colab_type": "code",
        "colab": {
          "base_uri": "https://localhost:8080/",
          "height": 318
        },
        "outputId": "ade0539c-1a99-413e-a2d2-0685456a4b95"
      },
      "source": [
        "fig = plt.figure(figsize=(5,4))\n",
        "sns.heatmap(corr, xticklabels=corr.columns, yticklabels=corr.columns, linewidths=.75)"
      ],
      "execution_count": 22,
      "outputs": [
        {
          "output_type": "execute_result",
          "data": {
            "text/plain": [
              "<matplotlib.axes._subplots.AxesSubplot at 0x7f23b85757b8>"
            ]
          },
          "metadata": {
            "tags": []
          },
          "execution_count": 22
        },
        {
          "output_type": "display_data",
          "data": {
            "image/png": "[encoded data removed]",
            "text/plain": [
              "<Figure size 360x288 with 2 Axes>"
            ]
          },
          "metadata": {
            "tags": []
          }
        }
      ]
    },
    {
      "cell_type": "markdown",
      "metadata": {
        "id": "0sYMx8-7Edqe",
        "colab_type": "text"
      },
      "source": [
        "Prepara para fazer a função de predição"
      ]
    },
    {
      "cell_type": "code",
      "metadata": {
        "id": "XiWkw0bWEcXm",
        "colab_type": "code",
        "colab": {}
      },
      "source": [
        "results_test = {}\n",
        "results_train = {}\n",
        "list_algos = []"
      ],
      "execution_count": 0,
      "outputs": []
    },
    {
      "cell_type": "markdown",
      "metadata": {
        "id": "6GPoio5ZEhrU",
        "colab_type": "text"
      },
      "source": [
        "Função de predição:"
      ]
    },
    {
      "cell_type": "code",
      "metadata": {
        "id": "WQJIJLZmMT3o",
        "colab_type": "code",
        "colab": {}
      },
      "source": [
        "def predict_date(algo_name,X_train,y_train,X_test,y_test,atype='',verbose=0):\n",
        "    algo_name.fit(X_train, y_train)\n",
        "    Y_pred = algo_name.predict(X_test)\n",
        "    acc_train = round(algo_name.score(X_train, y_train) * 100, 2)\n",
        "    acc_val = round(algo_name.score(X_test, y_test) * 100, 2)\n",
        "    \n",
        "    results_test[str(algo_name)[0:str(algo_name).find('(')]+'_'+str(atype)] = acc_val\n",
        "    results_train[str(algo_name)[0:str(algo_name).find('(')]+'_'+str(atype)] = acc_train\n",
        "    list_algos.append(str(algo_name)[0:str(algo_name).find('(')])\n",
        "    if verbose ==0:\n",
        "        print(\"acc train: \" + str(acc_train))\n",
        "        print(\"acc test: \"+ str(acc_val))\n",
        "    else:\n",
        "        return Y_pred"
      ],
      "execution_count": 0,
      "outputs": []
    },
    {
      "cell_type": "markdown",
      "metadata": {
        "id": "vRcgYg4PEwat",
        "colab_type": "text"
      },
      "source": [
        "Iniciamos o Random Forest com n_estimators:"
      ]
    },
    {
      "cell_type": "code",
      "metadata": {
        "id": "q8hR4mFVFAEt",
        "colab_type": "code",
        "colab": {
          "base_uri": "https://localhost:8080/",
          "height": 54
        },
        "outputId": "2f0a6b4e-152b-4d62-ce4b-2d0654f98eed"
      },
      "source": [
        "random_forest = RandomForestClassifier(n_estimators=50, random_state = 0)\n",
        "predict_date(random_forest,X_train,y_train,X_test,y_test)"
      ],
      "execution_count": 25,
      "outputs": [
        {
          "output_type": "stream",
          "text": [
            "acc train: 100.0\n",
            "acc test: 84.62\n"
          ],
          "name": "stdout"
        }
      ]
    },
    {
      "cell_type": "markdown",
      "metadata": {
        "id": "7aVCYcvSFBqF",
        "colab_type": "text"
      },
      "source": [
        "Encontramos a importancia de cada feature:"
      ]
    },
    {
      "cell_type": "code",
      "metadata": {
        "id": "Fa6wzK66FGJ2",
        "colab_type": "code",
        "colab": {}
      },
      "source": [
        "feature_importance = random_forest.feature_importances_\n",
        "feat_importances = pd.Series(random_forest.feature_importances_, index=df.columns[:-1])\n",
        "feat_importances = feat_importances.nlargest(13)\n",
        "feature = df.columns.values.tolist()[0:-1]\n",
        "importance = sorted(random_forest.feature_importances_.tolist())"
      ],
      "execution_count": 0,
      "outputs": []
    },
    {
      "cell_type": "markdown",
      "metadata": {
        "id": "pDWlAVZ_FHsW",
        "colab_type": "text"
      },
      "source": [
        "Estamos plotando o grafico da importancia das features:"
      ]
    },
    {
      "cell_type": "code",
      "metadata": {
        "id": "F6TSFIKvEqo1",
        "colab_type": "code",
        "colab": {
          "base_uri": "https://localhost:8080/",
          "height": 295
        },
        "outputId": "1831e225-c167-4e56-949b-e08a24b10f44"
      },
      "source": [
        "x_pos = [i for i, _ in enumerate(feature)]\n",
        "plt.barh(x_pos, importance , color='dodgerblue')\n",
        "plt.ylabel(\"feature\")\n",
        "plt.xlabel(\"importance\")\n",
        "plt.title(\"feature_importances\")\n",
        "plt.yticks(x_pos, feature)\n",
        "plt.show()"
      ],
      "execution_count": 27,
      "outputs": [
        {
          "output_type": "display_data",
          "data": {
            "image/png": "[encoded data removed]",
            "text/plain": [
              "<Figure size 432x288 with 1 Axes>"
            ]
          },
          "metadata": {
            "tags": []
          }
        }
      ]
    }
  ]
}